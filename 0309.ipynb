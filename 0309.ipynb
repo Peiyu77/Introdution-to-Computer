{
 "cells": [
  {
   "cell_type": "markdown",
   "id": "737820d5-ea1e-414e-843b-2f842fa36a40",
   "metadata": {},
   "source": [
    "建立變數a"
   ]
  },
  {
   "cell_type": "code",
   "execution_count": 1,
   "id": "a198329f-f676-4cf1-ac11-46286868ca9b",
   "metadata": {},
   "outputs": [],
   "source": [
    "a = 2"
   ]
  },
  {
   "cell_type": "code",
   "execution_count": 2,
   "id": "e824bdb4-113f-423a-a1e7-24552b6d3bdb",
   "metadata": {},
   "outputs": [
    {
     "data": {
      "text/plain": [
       "2"
      ]
     },
     "execution_count": 2,
     "metadata": {},
     "output_type": "execute_result"
    }
   ],
   "source": [
    "a"
   ]
  },
  {
   "cell_type": "markdown",
   "id": "ebe54f9c-59fe-4304-bdfb-b9eac5b24b87",
   "metadata": {},
   "source": [
    "建立變數b"
   ]
  },
  {
   "cell_type": "code",
   "execution_count": 3,
   "id": "1b4929cf-2ef7-40c8-b89b-df5b64e7464d",
   "metadata": {},
   "outputs": [],
   "source": [
    "b = 3"
   ]
  },
  {
   "cell_type": "code",
   "execution_count": 4,
   "id": "57902efb-eb37-4842-8d71-e4eae681093f",
   "metadata": {},
   "outputs": [
    {
     "data": {
      "text/plain": [
       "3"
      ]
     },
     "execution_count": 4,
     "metadata": {},
     "output_type": "execute_result"
    }
   ],
   "source": [
    "b"
   ]
  },
  {
   "cell_type": "markdown",
   "id": "30f0419c-94da-44ac-b296-b3e969d7bbcc",
   "metadata": {},
   "source": [
    "變數相加"
   ]
  },
  {
   "cell_type": "code",
   "execution_count": 5,
   "id": "e3cbc231-9705-4ed6-973a-54eddd96a5ca",
   "metadata": {},
   "outputs": [
    {
     "data": {
      "text/plain": [
       "5"
      ]
     },
     "execution_count": 5,
     "metadata": {},
     "output_type": "execute_result"
    }
   ],
   "source": [
    "a + b"
   ]
  },
  {
   "cell_type": "code",
   "execution_count": 6,
   "id": "2f090b89-e922-43e0-87c1-a034d096533d",
   "metadata": {},
   "outputs": [
    {
     "ename": "NameError",
     "evalue": "name 'c' is not defined",
     "output_type": "error",
     "traceback": [
      "\u001b[0;31m---------------------------------------------------------------------------\u001b[0m",
      "\u001b[0;31mNameError\u001b[0m                                 Traceback (most recent call last)",
      "\u001b[0;32m/var/folders/qr/j2mxmtss5430y_6zcwrq0_zr0000gn/T/ipykernel_55858/4021722908.py\u001b[0m in \u001b[0;36m<module>\u001b[0;34m\u001b[0m\n\u001b[0;32m----> 1\u001b[0;31m \u001b[0ma\u001b[0m \u001b[0;34m=\u001b[0m \u001b[0mc\u001b[0m\u001b[0;34m\u001b[0m\u001b[0;34m\u001b[0m\u001b[0m\n\u001b[0m",
      "\u001b[0;31mNameError\u001b[0m: name 'c' is not defined"
     ]
    }
   ],
   "source": [
    "a = c"
   ]
  },
  {
   "cell_type": "code",
   "execution_count": 7,
   "id": "c26afbe9-8d9d-4001-8b66-7ef2f6e429c1",
   "metadata": {},
   "outputs": [],
   "source": [
    "age, name = 21, \"peiyu\""
   ]
  },
  {
   "cell_type": "code",
   "execution_count": 8,
   "id": "eb694630-e657-4197-b0fb-2016a9a8b91a",
   "metadata": {},
   "outputs": [
    {
     "data": {
      "text/plain": [
       "21"
      ]
     },
     "execution_count": 8,
     "metadata": {},
     "output_type": "execute_result"
    }
   ],
   "source": [
    "age"
   ]
  },
  {
   "cell_type": "code",
   "execution_count": 9,
   "id": "99a5948b-551d-476e-acfb-9857d79ed304",
   "metadata": {},
   "outputs": [
    {
     "data": {
      "text/plain": [
       "'peiyu'"
      ]
     },
     "execution_count": 9,
     "metadata": {},
     "output_type": "execute_result"
    }
   ],
   "source": [
    "name"
   ]
  },
  {
   "cell_type": "code",
   "execution_count": 10,
   "id": "2d0cc66e-9e1d-4528-a005-c48108c6ceac",
   "metadata": {},
   "outputs": [],
   "source": [
    "c = 6 #建立變數c"
   ]
  },
  {
   "cell_type": "code",
   "execution_count": 11,
   "id": "d45ff089-2a87-4686-a519-25917d55a58f",
   "metadata": {},
   "outputs": [
    {
     "data": {
      "text/plain": [
       "6"
      ]
     },
     "execution_count": 11,
     "metadata": {},
     "output_type": "execute_result"
    }
   ],
   "source": [
    "c"
   ]
  },
  {
   "cell_type": "code",
   "execution_count": 12,
   "id": "9f1ea704-bbcc-4511-a701-33195740a641",
   "metadata": {},
   "outputs": [
    {
     "data": {
      "text/plain": [
       "'\\n建立變數d\\n建立變數e\\n'"
      ]
     },
     "execution_count": 12,
     "metadata": {},
     "output_type": "execute_result"
    }
   ],
   "source": [
    "d = 4\n",
    "e = 5\n",
    "\"\"\"\n",
    "建立變數d\n",
    "建立變數e\n",
    "\"\"\""
   ]
  },
  {
   "cell_type": "code",
   "execution_count": 13,
   "id": "1b6afde0-167f-461e-bbe7-9bb5ee81c586",
   "metadata": {},
   "outputs": [
    {
     "data": {
      "text/plain": [
       "(4, 5)"
      ]
     },
     "execution_count": 13,
     "metadata": {},
     "output_type": "execute_result"
    }
   ],
   "source": [
    "d, e"
   ]
  },
  {
   "cell_type": "code",
   "execution_count": 14,
   "id": "8b4f8ae9-b1a7-4e4c-8669-5edc550cec9a",
   "metadata": {},
   "outputs": [],
   "source": [
    "q = 4"
   ]
  },
  {
   "cell_type": "code",
   "execution_count": 15,
   "id": "8c5373c0-4596-4b29-ad79-800c26d3748a",
   "metadata": {},
   "outputs": [
    {
     "ename": "SyntaxError",
     "evalue": "EOL while scanning string literal (1476351413.py, line 1)",
     "output_type": "error",
     "traceback": [
      "\u001b[0;36m  File \u001b[0;32m\"/var/folders/qr/j2mxmtss5430y_6zcwrq0_zr0000gn/T/ipykernel_55858/1476351413.py\"\u001b[0;36m, line \u001b[0;32m1\u001b[0m\n\u001b[0;31m    str = \"這是字串“\u001b[0m\n\u001b[0m                ^\u001b[0m\n\u001b[0;31mSyntaxError\u001b[0m\u001b[0;31m:\u001b[0m EOL while scanning string literal\n"
     ]
    }
   ],
   "source": [
    "str = \"這是字串“"
   ]
  },
  {
   "cell_type": "code",
   "execution_count": 16,
   "id": "04860e02-2156-46c4-bd02-a95bfa79c1f3",
   "metadata": {},
   "outputs": [],
   "source": [
    "str = \"這是字串\""
   ]
  },
  {
   "cell_type": "code",
   "execution_count": 17,
   "id": "77e4c9ee-0a01-40f3-af18-337c10398f2e",
   "metadata": {},
   "outputs": [
    {
     "data": {
      "text/plain": [
       "'這是字串'"
      ]
     },
     "execution_count": 17,
     "metadata": {},
     "output_type": "execute_result"
    }
   ],
   "source": [
    "str"
   ]
  },
  {
   "cell_type": "code",
   "execution_count": 18,
   "id": "31e03aa9-bd0e-4f1a-b4b5-74ed16639b60",
   "metadata": {},
   "outputs": [],
   "source": [
    "str1 = \"peiyu說:'Hey,你好!'\""
   ]
  },
  {
   "cell_type": "code",
   "execution_count": 19,
   "id": "803313e5-36bf-4723-82f2-8d814b24c75d",
   "metadata": {},
   "outputs": [
    {
     "data": {
      "text/plain": [
       "\"peiyu說:'Hey,你好!'\""
      ]
     },
     "execution_count": 19,
     "metadata": {},
     "output_type": "execute_result"
    }
   ],
   "source": [
    "str1"
   ]
  },
  {
   "cell_type": "code",
   "execution_count": 20,
   "id": "af47bc18-8911-44b5-b190-c88cbbe81fce",
   "metadata": {},
   "outputs": [],
   "source": [
    "str2 = 'peiyu說:\"Hey,你好!\"'"
   ]
  },
  {
   "cell_type": "code",
   "execution_count": 21,
   "id": "1c5bfdb8-3a47-4e71-b17f-e3fd3b8b5450",
   "metadata": {},
   "outputs": [
    {
     "data": {
      "text/plain": [
       "'peiyu說:\"Hey,你好!\"'"
      ]
     },
     "execution_count": 21,
     "metadata": {},
     "output_type": "execute_result"
    }
   ],
   "source": [
    "str2"
   ]
  },
  {
   "cell_type": "code",
   "execution_count": 22,
   "id": "f4c2c5e5-427b-4ad0-9fd9-f5687910a1ca",
   "metadata": {},
   "outputs": [
    {
     "data": {
      "text/plain": [
       "(2, 3, 21, 'peiyu', '這是字串')"
      ]
     },
     "execution_count": 22,
     "metadata": {},
     "output_type": "execute_result"
    }
   ],
   "source": [
    "a,b,age,name,str"
   ]
  },
  {
   "cell_type": "code",
   "execution_count": 23,
   "id": "70de8796-171b-447c-a62d-3bb286aae957",
   "metadata": {},
   "outputs": [
    {
     "name": "stdout",
     "output_type": "stream",
     "text": [
      "HI\n",
      "你好\n"
     ]
    }
   ],
   "source": [
    "print(\"HI\\n你好\")"
   ]
  },
  {
   "cell_type": "code",
   "execution_count": 24,
   "id": "d86370d5-61c6-4f5a-8380-ff5c7005774b",
   "metadata": {},
   "outputs": [
    {
     "name": "stdout",
     "output_type": "stream",
     "text": [
      "<class 'int'>\n"
     ]
    }
   ],
   "source": [
    "print(type(100))"
   ]
  },
  {
   "cell_type": "code",
   "execution_count": 25,
   "id": "70f13a6f-5c9e-4cc2-90ce-1edf150d66c0",
   "metadata": {},
   "outputs": [
    {
     "name": "stdout",
     "output_type": "stream",
     "text": [
      "<class 'float'>\n"
     ]
    }
   ],
   "source": [
    "print(type(10.1))"
   ]
  },
  {
   "cell_type": "code",
   "execution_count": 26,
   "id": "9f32d46b-a3df-45af-ba76-ceae30cca8e5",
   "metadata": {},
   "outputs": [
    {
     "name": "stdout",
     "output_type": "stream",
     "text": [
      "<class 'str'>\n"
     ]
    }
   ],
   "source": [
    "print(type(\"Hey man,How are you?\"))"
   ]
  },
  {
   "cell_type": "code",
   "execution_count": 27,
   "id": "350774ce-0636-4854-b4c6-c1cd4aae27f6",
   "metadata": {},
   "outputs": [
    {
     "name": "stdout",
     "output_type": "stream",
     "text": [
      "<class 'int'>\n"
     ]
    }
   ],
   "source": [
    "print(type(a))"
   ]
  },
  {
   "cell_type": "code",
   "execution_count": 28,
   "id": "959cec2f-80dc-45ee-bf42-86c846c752ef",
   "metadata": {},
   "outputs": [
    {
     "name": "stdout",
     "output_type": "stream",
     "text": [
      "<class 'int'>\n",
      "<class 'int'>\n",
      "<class 'int'>\n",
      "<class 'str'>\n"
     ]
    }
   ],
   "source": [
    "print(type(a))\n",
    "print(type(b))\n",
    "print(type(age))\n",
    "print(type(name))"
   ]
  },
  {
   "cell_type": "code",
   "execution_count": null,
   "id": "d8105b78-b585-42e5-9366-ac488dbdffb3",
   "metadata": {},
   "outputs": [],
   "source": []
  }
 ],
 "metadata": {
  "kernelspec": {
   "display_name": "Python 3 (ipykernel)",
   "language": "python",
   "name": "python3"
  },
  "language_info": {
   "codemirror_mode": {
    "name": "ipython",
    "version": 3
   },
   "file_extension": ".py",
   "mimetype": "text/x-python",
   "name": "python",
   "nbconvert_exporter": "python",
   "pygments_lexer": "ipython3",
   "version": "3.9.7"
  }
 },
 "nbformat": 4,
 "nbformat_minor": 5
}
