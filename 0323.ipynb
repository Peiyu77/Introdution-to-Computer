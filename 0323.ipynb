{
 "cells": [
  {
   "cell_type": "code",
   "execution_count": 2,
   "id": "9a2db751",
   "metadata": {},
   "outputs": [
    {
     "name": "stdout",
     "output_type": "stream",
     "text": [
      "123\n"
     ]
    }
   ],
   "source": [
    "print('123')"
   ]
  },
  {
   "cell_type": "code",
   "execution_count": 4,
   "id": "61bc6513",
   "metadata": {},
   "outputs": [
    {
     "data": {
      "text/plain": [
       "15"
      ]
     },
     "execution_count": 4,
     "metadata": {},
     "output_type": "execute_result"
    }
   ],
   "source": [
    "12+3"
   ]
  },
  {
   "cell_type": "code",
   "execution_count": 5,
   "id": "901fc673",
   "metadata": {},
   "outputs": [
    {
     "data": {
      "text/plain": [
       "9"
      ]
     },
     "execution_count": 5,
     "metadata": {},
     "output_type": "execute_result"
    }
   ],
   "source": [
    "12-3"
   ]
  },
  {
   "cell_type": "code",
   "execution_count": 6,
   "id": "4fb69020",
   "metadata": {},
   "outputs": [
    {
     "data": {
      "text/plain": [
       "36"
      ]
     },
     "execution_count": 6,
     "metadata": {},
     "output_type": "execute_result"
    }
   ],
   "source": [
    "12*3"
   ]
  },
  {
   "cell_type": "code",
   "execution_count": 7,
   "id": "0b2f6ac3",
   "metadata": {},
   "outputs": [
    {
     "data": {
      "text/plain": [
       "6.4"
      ]
     },
     "execution_count": 7,
     "metadata": {},
     "output_type": "execute_result"
    }
   ],
   "source": [
    "32/5"
   ]
  },
  {
   "cell_type": "code",
   "execution_count": 8,
   "id": "949c7b38",
   "metadata": {},
   "outputs": [
    {
     "data": {
      "text/plain": [
       "2"
      ]
     },
     "execution_count": 8,
     "metadata": {},
     "output_type": "execute_result"
    }
   ],
   "source": [
    "32%5"
   ]
  },
  {
   "cell_type": "code",
   "execution_count": 9,
   "id": "ec2528c4",
   "metadata": {},
   "outputs": [
    {
     "data": {
      "text/plain": [
       "6"
      ]
     },
     "execution_count": 9,
     "metadata": {},
     "output_type": "execute_result"
    }
   ],
   "source": [
    "32//5"
   ]
  },
  {
   "cell_type": "code",
   "execution_count": 10,
   "id": "754a7796",
   "metadata": {},
   "outputs": [
    {
     "data": {
      "text/plain": [
       "49"
      ]
     },
     "execution_count": 10,
     "metadata": {},
     "output_type": "execute_result"
    }
   ],
   "source": [
    "7**2"
   ]
  },
  {
   "cell_type": "code",
   "execution_count": 11,
   "id": "a7fc20ee",
   "metadata": {},
   "outputs": [
    {
     "data": {
      "text/plain": [
       "2401"
      ]
     },
     "execution_count": 11,
     "metadata": {},
     "output_type": "execute_result"
    }
   ],
   "source": [
    "7**4"
   ]
  },
  {
   "cell_type": "code",
   "execution_count": 12,
   "id": "5c615465",
   "metadata": {},
   "outputs": [
    {
     "name": "stdout",
     "output_type": "stream",
     "text": [
      "請輸入梯形上底的長度:3\n",
      "請輸入梯形下底的長度:4\n",
      "請輸入梯形上底的高度:3\n"
     ]
    }
   ],
   "source": [
    "上底 = int(input('請輸入梯形上底的長度:'))\n",
    "下底 = int(input('請輸入梯形下底的長度:'))\n",
    "高 = int(input('請輸入梯形上底的高度:'))\n",
    "面積 = (上底+下底) * 高 / 2"
   ]
  },
  {
   "cell_type": "code",
   "execution_count": 16,
   "id": "a4af49fe",
   "metadata": {},
   "outputs": [
    {
     "name": "stdout",
     "output_type": "stream",
     "text": [
      "請輸入梯形上底的長度:3\n",
      "請輸入梯形下底的長度:4\n",
      "請輸入梯形上底的高度:3\n",
      "梯形上底長度為: 3 梯形下底長度為: 4 梯形高度為: 3 梯形面積為: 10.5\n"
     ]
    }
   ],
   "source": [
    "上底 = int(input('請輸入梯形上底的長度:'))\n",
    "下底 = int(input('請輸入梯形下底的長度:'))\n",
    "高 = int(input('請輸入梯形上底的高度:'))\n",
    "面積 = (上底 + 下底) * 高 / 2\n",
    "print('梯形上底長度為:',上底,'梯形下底長度為:',下底,'梯形高度為:',高,'梯形面積為:',面積)"
   ]
  },
  {
   "cell_type": "code",
   "execution_count": 17,
   "id": "5ad817c6",
   "metadata": {},
   "outputs": [
    {
     "ename": "TypeError",
     "evalue": "not all arguments converted during string formatting",
     "output_type": "error",
     "traceback": [
      "\u001b[0;31m---------------------------------------------------------------------------\u001b[0m",
      "\u001b[0;31mTypeError\u001b[0m                                 Traceback (most recent call last)",
      "\u001b[0;32m/var/folders/qr/j2mxmtss5430y_6zcwrq0_zr0000gn/T/ipykernel_25534/3932635738.py\u001b[0m in \u001b[0;36m<module>\u001b[0;34m\u001b[0m\n\u001b[0;32m----> 1\u001b[0;31m \u001b[0mprint\u001b[0m\u001b[0;34m(\u001b[0m\u001b[0;34m'梯形上底長度為: %d,梯形下底長度為: %d,梯形高度為: %d'\u001b[0m \u001b[0;34m%\u001b[0m \u001b[0;34m(\u001b[0m\u001b[0m上底\u001b[0m\u001b[0;34m,\u001b[0m\u001b[0m下底\u001b[0m\u001b[0;34m,\u001b[0m\u001b[0m高\u001b[0m\u001b[0;34m,\u001b[0m\u001b[0m面積\u001b[0m\u001b[0;34m)\u001b[0m\u001b[0;34m)\u001b[0m\u001b[0;34m\u001b[0m\u001b[0;34m\u001b[0m\u001b[0m\n\u001b[0m",
      "\u001b[0;31mTypeError\u001b[0m: not all arguments converted during string formatting"
     ]
    }
   ],
   "source": [
    "print('梯形上底長度為: %d,梯形下底長度為: %d,梯形高度為: %d' % (上底,下底,高,面積))"
   ]
  },
  {
   "cell_type": "code",
   "execution_count": 18,
   "id": "ccea3d89",
   "metadata": {},
   "outputs": [
    {
     "ename": "TypeError",
     "evalue": "not all arguments converted during string formatting",
     "output_type": "error",
     "traceback": [
      "\u001b[0;31m---------------------------------------------------------------------------\u001b[0m",
      "\u001b[0;31mTypeError\u001b[0m                                 Traceback (most recent call last)",
      "\u001b[0;32m/var/folders/qr/j2mxmtss5430y_6zcwrq0_zr0000gn/T/ipykernel_25534/3932635738.py\u001b[0m in \u001b[0;36m<module>\u001b[0;34m\u001b[0m\n\u001b[0;32m----> 1\u001b[0;31m \u001b[0mprint\u001b[0m\u001b[0;34m(\u001b[0m\u001b[0;34m'梯形上底長度為: %d,梯形下底長度為: %d,梯形高度為: %d'\u001b[0m \u001b[0;34m%\u001b[0m \u001b[0;34m(\u001b[0m\u001b[0m上底\u001b[0m\u001b[0;34m,\u001b[0m\u001b[0m下底\u001b[0m\u001b[0;34m,\u001b[0m\u001b[0m高\u001b[0m\u001b[0;34m,\u001b[0m\u001b[0m面積\u001b[0m\u001b[0;34m)\u001b[0m\u001b[0;34m)\u001b[0m\u001b[0;34m\u001b[0m\u001b[0;34m\u001b[0m\u001b[0m\n\u001b[0m",
      "\u001b[0;31mTypeError\u001b[0m: not all arguments converted during string formatting"
     ]
    }
   ],
   "source": [
    "print('梯形上底長度為: %d,梯形下底長度為: %d,梯形高度為: %d' % (上底,下底,高,面積))"
   ]
  },
  {
   "cell_type": "code",
   "execution_count": 19,
   "id": "9ea1799a",
   "metadata": {},
   "outputs": [
    {
     "name": "stdout",
     "output_type": "stream",
     "text": [
      "梯形上底長度為: 3, 梯形下底長度為: 4, 梯形高度為: 3, 梯形面積為: 10\n"
     ]
    }
   ],
   "source": [
    "print('梯形上底長度為: %d, 梯形下底長度為: %d, 梯形高度為: %d, 梯形面積為: %d' % (上底,下底,高,面積))"
   ]
  },
  {
   "cell_type": "code",
   "execution_count": 20,
   "id": "caeb1ef4",
   "metadata": {},
   "outputs": [
    {
     "name": "stdout",
     "output_type": "stream",
     "text": [
      "梯形上底長度為: 3, 梯形下底長度為: 4, 梯形高度為: 3, 梯形面積為: 10.500000\n"
     ]
    }
   ],
   "source": [
    "print('梯形上底長度為: %d, 梯形下底長度為: %d, 梯形高度為: %d, 梯形面積為: %f' % (上底,下底,高,面積))"
   ]
  },
  {
   "cell_type": "code",
   "execution_count": 21,
   "id": "c17a116f",
   "metadata": {},
   "outputs": [
    {
     "name": "stdout",
     "output_type": "stream",
     "text": [
      "梯形上底長度為: 3, 梯形下底長度為: 4, 梯形高度為: 3, 梯形面積為: 10.5\n"
     ]
    }
   ],
   "source": [
    "print('梯形上底長度為: %d, 梯形下底長度為: %d, 梯形高度為: %d, 梯形面積為: %0.1f' % (上底,下底,高,面積))"
   ]
  },
  {
   "cell_type": "code",
   "execution_count": 22,
   "id": "73fb7607",
   "metadata": {},
   "outputs": [],
   "source": [
    "a = 1.1\n",
    "b = 2.02\n",
    "c = 3.003"
   ]
  },
  {
   "cell_type": "markdown",
   "id": "336cc3b7",
   "metadata": {},
   "source": [
    "a=1.1,b=2.02,c=3.003"
   ]
  },
  {
   "cell_type": "code",
   "execution_count": 23,
   "id": "1e8e300b",
   "metadata": {},
   "outputs": [
    {
     "name": "stdout",
     "output_type": "stream",
     "text": [
      "a=%0.1f, b=%0.2f, c=%0.3f\n"
     ]
    },
    {
     "ename": "TypeError",
     "evalue": "unsupported operand type(s) for %: 'NoneType' and 'tuple'",
     "output_type": "error",
     "traceback": [
      "\u001b[0;31m---------------------------------------------------------------------------\u001b[0m",
      "\u001b[0;31mTypeError\u001b[0m                                 Traceback (most recent call last)",
      "\u001b[0;32m/var/folders/qr/j2mxmtss5430y_6zcwrq0_zr0000gn/T/ipykernel_25534/3701525671.py\u001b[0m in \u001b[0;36m<module>\u001b[0;34m\u001b[0m\n\u001b[0;32m----> 1\u001b[0;31m \u001b[0mprint\u001b[0m\u001b[0;34m(\u001b[0m\u001b[0;34m'a=%0.1f, b=%0.2f, c=%0.3f'\u001b[0m\u001b[0;34m)\u001b[0m \u001b[0;34m%\u001b[0m\u001b[0;34m(\u001b[0m\u001b[0ma\u001b[0m\u001b[0;34m,\u001b[0m\u001b[0mb\u001b[0m\u001b[0;34m,\u001b[0m\u001b[0mc\u001b[0m\u001b[0;34m)\u001b[0m\u001b[0;34m\u001b[0m\u001b[0;34m\u001b[0m\u001b[0m\n\u001b[0m",
      "\u001b[0;31mTypeError\u001b[0m: unsupported operand type(s) for %: 'NoneType' and 'tuple'"
     ]
    }
   ],
   "source": [
    "print('a=%0.1f, b=%0.2f, c=%0.3f') %(a,b,c)"
   ]
  },
  {
   "cell_type": "code",
   "execution_count": 24,
   "id": "7c596352",
   "metadata": {},
   "outputs": [
    {
     "ename": "SyntaxError",
     "evalue": "unexpected EOF while parsing (1196251817.py, line 1)",
     "output_type": "error",
     "traceback": [
      "\u001b[0;36m  File \u001b[0;32m\"/var/folders/qr/j2mxmtss5430y_6zcwrq0_zr0000gn/T/ipykernel_25534/1196251817.py\"\u001b[0;36m, line \u001b[0;32m1\u001b[0m\n\u001b[0;31m    print('a=%0.1f, b=%0.2f, c=%0.3f' %(a,b,c)\u001b[0m\n\u001b[0m                                              ^\u001b[0m\n\u001b[0;31mSyntaxError\u001b[0m\u001b[0;31m:\u001b[0m unexpected EOF while parsing\n"
     ]
    }
   ],
   "source": [
    "print('a=%0.1f, b=%0.2f, c=%0.3f' %(a,b,c)"
   ]
  },
  {
   "cell_type": "code",
   "execution_count": 25,
   "id": "cdb13a2e",
   "metadata": {},
   "outputs": [
    {
     "ename": "SyntaxError",
     "evalue": "unmatched ')' (1343738267.py, line 1)",
     "output_type": "error",
     "traceback": [
      "\u001b[0;36m  File \u001b[0;32m\"/var/folders/qr/j2mxmtss5430y_6zcwrq0_zr0000gn/T/ipykernel_25534/1343738267.py\"\u001b[0;36m, line \u001b[0;32m1\u001b[0m\n\u001b[0;31m    print('a=%0.1f, b=%0.2f, c=%0.3f') %(a,b,c))\u001b[0m\n\u001b[0m                                               ^\u001b[0m\n\u001b[0;31mSyntaxError\u001b[0m\u001b[0;31m:\u001b[0m unmatched ')'\n"
     ]
    }
   ],
   "source": [
    "print('a=%0.1f, b=%0.2f, c=%0.3f') %(a,b,c))"
   ]
  },
  {
   "cell_type": "code",
   "execution_count": 26,
   "id": "060dfb4f",
   "metadata": {},
   "outputs": [
    {
     "name": "stdout",
     "output_type": "stream",
     "text": [
      "a=1.1, b=2.02, c=3.003\n"
     ]
    }
   ],
   "source": [
    "print('a=%0.1f, b=%0.2f, c=%0.3f' %(a,b,c))"
   ]
  },
  {
   "cell_type": "code",
   "execution_count": 27,
   "id": "c28aae1d",
   "metadata": {},
   "outputs": [
    {
     "name": "stdout",
     "output_type": "stream",
     "text": [
      "請輸入您的身高（cm）:162\n",
      "請輸入您的體重（kg）:56\n",
      "身高 162 公分, 體重 56 公斤, bmi值為21.34\n"
     ]
    }
   ],
   "source": [
    "height = float(input(\"請輸入您的身高（cm）:\"))\n",
    "weight = float(input(\"請輸入您的體重（kg）:\"))\n",
    "bmi = weight / (height/100)**2\n",
    "print('身高 %d 公分, 體重 %d 公斤, bmi值為%.2f' % (height,weight,bmi))"
   ]
  },
  {
   "cell_type": "code",
   "execution_count": 28,
   "id": "cb113d9a",
   "metadata": {},
   "outputs": [
    {
     "data": {
      "text/plain": [
       "162.0"
      ]
     },
     "execution_count": 28,
     "metadata": {},
     "output_type": "execute_result"
    }
   ],
   "source": [
    "height"
   ]
  },
  {
   "cell_type": "code",
   "execution_count": 29,
   "id": "13b64562",
   "metadata": {},
   "outputs": [
    {
     "data": {
      "text/plain": [
       "False"
      ]
     },
     "execution_count": 29,
     "metadata": {},
     "output_type": "execute_result"
    }
   ],
   "source": [
    "1==2"
   ]
  },
  {
   "cell_type": "code",
   "execution_count": null,
   "id": "2bdcdcf8",
   "metadata": {},
   "outputs": [],
   "source": []
  }
 ],
 "metadata": {
  "kernelspec": {
   "display_name": "Python 3 (ipykernel)",
   "language": "python",
   "name": "python3"
  },
  "language_info": {
   "codemirror_mode": {
    "name": "ipython",
    "version": 3
   },
   "file_extension": ".py",
   "mimetype": "text/x-python",
   "name": "python",
   "nbconvert_exporter": "python",
   "pygments_lexer": "ipython3",
   "version": "3.9.7"
  }
 },
 "nbformat": 4,
 "nbformat_minor": 5
}
