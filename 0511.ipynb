{
 "cells": [
  {
   "cell_type": "code",
   "execution_count": 1,
   "id": "e5320fb0",
   "metadata": {},
   "outputs": [
    {
     "name": "stdout",
     "output_type": "stream",
     "text": [
      "請輸入你的體溫39\n",
      "體溫過高！\n"
     ]
    }
   ],
   "source": [
    "temp = float(input(\"請輸入你的體溫\"))\n",
    "if temp >= 37.5:\n",
    "    print(\"體溫過高！\")\n",
    "elif temp >= 37 and temp < 37.4:\n",
    "    print(\"體溫略高！\")\n",
    "elif temp >= 34 and temp < 36.9:\n",
    "    print(\"體溫正常！\")\n",
    "else:\n",
    "    print(\"體溫異常，請重新測量！\")"
   ]
  },
  {
   "cell_type": "code",
   "execution_count": 2,
   "id": "4b9a456d",
   "metadata": {},
   "outputs": [
    {
     "name": "stdout",
     "output_type": "stream",
     "text": [
      "請輸入購物金額:33333333\n",
      "八折 26666666.400000002元\n"
     ]
    }
   ],
   "source": [
    "money = int(input(\"請輸入購物金額:\"))\n",
    "if (money >= 10000):\n",
    "    if(money >= 100000):\n",
    "        print(\"八折\", money * 0.8, end = \"元\\n\" )\n",
    "else:\n",
    "    print(\"沒打折\", money, end = \"元\\n\") \n",
    "    "
   ]
  },
  {
   "cell_type": "code",
   "execution_count": 4,
   "id": "fb075dce",
   "metadata": {},
   "outputs": [
    {
     "name": "stdout",
     "output_type": "stream",
     "text": [
      "請輸入您的成績:17\n",
      "E\n"
     ]
    }
   ],
   "source": [
    "score = int(input(\"請輸入您的成績:\"))\n",
    "if score >= 90:\n",
    "    print(\"A\")\n",
    "elif score >= 80 and score < 90:\n",
    "    print(\"B\")\n",
    "elif score >= 70 and score < 80:\n",
    "    print(\"C\")\n",
    "elif score >= 60 and score < 70:\n",
    "    print(\"D\")\n",
    "else:\n",
    "    score < 60\n",
    "    print(\"E\")"
   ]
  },
  {
   "cell_type": "code",
   "execution_count": 7,
   "id": "71dcc81a",
   "metadata": {},
   "outputs": [
    {
     "name": "stdout",
     "output_type": "stream",
     "text": [
      "請輸入月份:7\n",
      "7月是夏天\n"
     ]
    }
   ],
   "source": [
    "month = int(input(\"請輸入月份:\"))\n",
    "if month == 3 or month == 4 or month == 5:\n",
    "    print(str(month) + \"月是春天\")\n",
    "elif month == 6 or month == 7 or month == 8:\n",
    "    print(str(month) + \"月是夏天\")\n",
    "elif month == 9 or month == 10 or month == 11:\n",
    "    print(str(month) + \"月是秋天\")\n",
    "elif month == 12 or month == 1 or month == 2:\n",
    "    print(str(month) + \"月是冬天\")\n",
    "else:\n",
    "    print(\"月份不在範圍內！\")"
   ]
  },
  {
   "cell_type": "code",
   "execution_count": 8,
   "id": "3a6cae2b",
   "metadata": {},
   "outputs": [
    {
     "name": "stdout",
     "output_type": "stream",
     "text": [
      "請輸入今年收入淨額：5678899999\n",
      "付稅金額: 1703669999.7元\n"
     ]
    }
   ],
   "source": [
    "income = int(input(\"請輸入今年收入淨額：\"))\n",
    "if income >= 2000000:\n",
    "    print(\"付稅金額:\", income * 0.3, end = \"元\\n\")\n",
    "elif income >= 1000000:\n",
    "    print(\"付稅金額:\", income * 0.21, end = \"元\\n\")\n",
    "elif income >= 600000:\n",
    "    print(\"付稅金額:\", income * 0.13, end = \"元\\n\")\n",
    "else:\n",
    "    income >= 300000\n",
    "    print(\"付稅金額:\", income * 0.06, end = \"元\\n\")"
   ]
  },
  {
   "cell_type": "code",
   "execution_count": null,
   "id": "03ef6b3d",
   "metadata": {},
   "outputs": [],
   "source": []
  }
 ],
 "metadata": {
  "kernelspec": {
   "display_name": "Python 3 (ipykernel)",
   "language": "python",
   "name": "python3"
  },
  "language_info": {
   "codemirror_mode": {
    "name": "ipython",
    "version": 3
   },
   "file_extension": ".py",
   "mimetype": "text/x-python",
   "name": "python",
   "nbconvert_exporter": "python",
   "pygments_lexer": "ipython3",
   "version": "3.9.7"
  }
 },
 "nbformat": 4,
 "nbformat_minor": 5
}
