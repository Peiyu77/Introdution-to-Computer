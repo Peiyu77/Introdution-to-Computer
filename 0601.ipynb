{
 "cells": [
  {
   "cell_type": "code",
   "execution_count": 1,
   "id": "63613276",
   "metadata": {},
   "outputs": [
    {
     "name": "stdout",
     "output_type": "stream",
     "text": [
      "2*1= 2 2*2= 4 2*3= 6 2*4= 8 2*5=10 2*6=12 2*7=14 2*8=16 2*9=18 \n",
      "3*1= 3 3*2= 6 3*3= 9 3*4=12 3*5=15 3*6=18 3*7=21 3*8=24 3*9=27 \n",
      "4*1= 4 4*2= 8 4*3=12 4*4=16 4*5=20 4*6=24 4*7=28 4*8=32 4*9=36 \n",
      "5*1= 5 5*2=10 5*3=15 5*4=20 5*5=25 5*6=30 5*7=35 5*8=40 5*9=45 \n",
      "6*1= 6 6*2=12 6*3=18 6*4=24 6*5=30 6*6=36 6*7=42 6*8=48 6*9=54 \n",
      "7*1= 7 7*2=14 7*3=21 7*4=28 7*5=35 7*6=42 7*7=49 7*8=56 7*9=63 \n",
      "8*1= 8 8*2=16 8*3=24 8*4=32 8*5=40 8*6=48 8*7=56 8*8=64 8*9=72 \n",
      "9*1= 9 9*2=18 9*3=27 9*4=36 9*5=45 9*6=54 9*7=63 9*8=72 9*9=81 \n"
     ]
    }
   ],
   "source": [
    "for i in range(2,10):\n",
    "    for j in range(1,10):\n",
    "        product = i * j\n",
    "        print(\"%d*%d=%2d\" % (i, j, product), end=\" \")\n",
    "    print()"
   ]
  },
  {
   "cell_type": "code",
   "execution_count": 2,
   "id": "9788c7be",
   "metadata": {},
   "outputs": [
    {
     "name": "stdout",
     "output_type": "stream",
     "text": [
      "請輸入 a 的值：5\n",
      "請輸入 b 的值：4\n",
      "5和 4的最小公倍數 = 20\n"
     ]
    }
   ],
   "source": [
    "a = int(input(\"請輸入 a 的值：\"))\n",
    "b = int(input(\"請輸入 b 的值：\"))\n",
    "\n",
    "maxno = a * b\n",
    "for i in range(1, maxno+1):\n",
    "    if (i % a == 0 and i % b == 0):\n",
    "        break\n",
    "print(\"%d和 %d的最小公倍數 = %d\" %(a,b,i))\n"
   ]
  },
  {
   "cell_type": "code",
   "execution_count": 3,
   "id": "f84e7fac",
   "metadata": {},
   "outputs": [
    {
     "name": "stdout",
     "output_type": "stream",
     "text": [
      "請輸入正整數：25\n",
      "1 2 3 4 6 7 8 9 11 12 13 14 16 17 18 19 21 22 23 24 "
     ]
    }
   ],
   "source": [
    "n = int(input(\"請輸入正整數：\"))\n",
    "for i in range(1,n+1):\n",
    "    if i % 5 == 0:\n",
    "        continue\n",
    "    print(i, end =\" \")"
   ]
  },
  {
   "cell_type": "code",
   "execution_count": 4,
   "id": "17e6a0b1",
   "metadata": {},
   "outputs": [
    {
     "name": "stdout",
     "output_type": "stream",
     "text": [
      "55\n"
     ]
    }
   ],
   "source": [
    "total = n = 0\n",
    "while(n<10):\n",
    "    n += 1\n",
    "    total += n\n",
    "print(total)"
   ]
  },
  {
   "cell_type": "code",
   "execution_count": 5,
   "id": "39424c0b",
   "metadata": {},
   "outputs": [
    {
     "name": "stdout",
     "output_type": "stream",
     "text": [
      "55\n"
     ]
    }
   ],
   "source": [
    "total = n = 0\n",
    "while(n<= 10):\n",
    "    total += n\n",
    "    n += 1\n",
    "print(total)"
   ]
  },
  {
   "cell_type": "code",
   "execution_count": 6,
   "id": "a31501a9",
   "metadata": {},
   "outputs": [
    {
     "name": "stdout",
     "output_type": "stream",
     "text": [
      "請輸入正整數n的值：100\n",
      "100!=93326215443944152681699238856266700490715968264381621468592963895217599993229915608941463976156518286253697920827223758251185210916864000000000000000000000000\n"
     ]
    }
   ],
   "source": [
    "total = i = 1\n",
    "n = int(input(\"請輸入正整數n的值：\"))\n",
    "while i<=n:\n",
    "    total *= i\n",
    "    i+=1\n",
    "print(\"%d!=%d\" % (n,total))"
   ]
  },
  {
   "cell_type": "code",
   "execution_count": 7,
   "id": "25257b7e",
   "metadata": {},
   "outputs": [
    {
     "name": "stdout",
     "output_type": "stream",
     "text": [
      "0~50的偶數和結果是 650\n",
      "0~50的奇數和結果是 625\n"
     ]
    }
   ],
   "source": [
    "sum = 0\n",
    "for i in range(0,51):\n",
    "    if i % 2 == 0:\n",
    "        sum += i\n",
    "print(\"0~50的偶數和結果是\",sum)\n",
    "sum = 0\n",
    "for i in range(0,51):\n",
    "    if i % 2 == 1:\n",
    "        sum += i\n",
    "print(\"0~50的奇數和結果是\",sum)"
   ]
  },
  {
   "cell_type": "code",
   "execution_count": 8,
   "id": "0caee8a3",
   "metadata": {},
   "outputs": [
    {
     "name": "stdout",
     "output_type": "stream",
     "text": [
      "請輸入正整數：7\n",
      "*******\n",
      "******\n",
      "*****\n",
      "****\n",
      "***\n",
      "**\n",
      "*\n"
     ]
    }
   ],
   "source": [
    "n = int(input(\"請輸入正整數：\"))\n",
    "for i in range(n):\n",
    "    print((n-i)*'*')"
   ]
  },
  {
   "cell_type": "code",
   "execution_count": 9,
   "id": "ca9aa294",
   "metadata": {},
   "outputs": [
    {
     "name": "stdout",
     "output_type": "stream",
     "text": [
      "請輸入正整數：5\n",
      "*****\n",
      "****\n",
      "***\n",
      "**\n",
      "*\n"
     ]
    }
   ],
   "source": [
    "n = int(input(\"請輸入正整數：\"))\n",
    "for i in range(n):\n",
    "    print((n-i)*'*')"
   ]
  },
  {
   "cell_type": "code",
   "execution_count": 10,
   "id": "eddea9f5",
   "metadata": {},
   "outputs": [
    {
     "name": "stdout",
     "output_type": "stream",
     "text": [
      "數值 1~100 中， 所有是 3 或 7 的倍數的數之總和 ＝ 2208\n"
     ]
    }
   ],
   "source": [
    "sum = 0\n",
    "for i in range(1,101):\n",
    "    if i % 3 == 0 or i % 7 == 0:\n",
    "        sum += i\n",
    "print(\"數值 1~100 中， 所有是 3 或 7 的倍數的數之總和 ＝\",sum)"
   ]
  },
  {
   "cell_type": "code",
   "execution_count": 20,
   "id": "fd4b832d",
   "metadata": {},
   "outputs": [
    {
     "name": "stdout",
     "output_type": "stream",
     "text": [
      "請輸入正整數：12\n",
      "1 2 3 4 6 12 12 不是質數\n"
     ]
    }
   ],
   "source": [
    "n = int(input(\"請輸入正整數：\"))\n",
    "for i in range(1,n+1):\n",
    "    if n % i ==0 :\n",
    "        print(i,end=\" \")\n",
    "if n > 1 :\n",
    "    for i in range(2,int(n/2)+1):\n",
    "        if(n % i) == 0:\n",
    "            print(n,\"不是質數\",end=\"\\n\")\n",
    "            break\n",
    "    else:\n",
    "        print(n,\"是質數\",end=\"\\n\")\n",
    "else:\n",
    "    print(n,\"不是質數\",end=\"\\n\")"
   ]
  },
  {
   "cell_type": "code",
   "execution_count": 23,
   "id": "83e0e7d0",
   "metadata": {},
   "outputs": [
    {
     "name": "stdout",
     "output_type": "stream",
     "text": [
      "請輸入正整數：12\n",
      "1 2 3 4 6 12 12 不是質數\n"
     ]
    }
   ],
   "source": [
    "n = int(input(\"請輸入正整數：\"))\n",
    "for i in range(1,n+1):\n",
    "    if n % i ==0 :\n",
    "        print(i,end=\" \")\n",
    "\n",
    "for c in range(2,n):\n",
    "    if n % c == 0:\n",
    "        print(n,\"不是質數\")\n",
    "        break\n",
    "    elif c == n-1:\n",
    "        print(n,\"是質數\")\n",
    "if n == 2:\n",
    "    print(n,\"是質數\")"
   ]
  },
  {
   "cell_type": "code",
   "execution_count": 26,
   "id": "de224962",
   "metadata": {},
   "outputs": [
    {
     "name": "stdout",
     "output_type": "stream",
     "text": [
      "請輸入正整數：12\n",
      "1 2 3 4 6 12 12 不是質數 "
     ]
    }
   ],
   "source": [
    "n = int(input(\"請輸入正整數：\"))\n",
    "for i in range(1,n+1):\n",
    "    if n % i ==0 :\n",
    "        print(i,end=\" \")\n",
    "\n",
    "for c in range(2,n):\n",
    "    if n % c == 0:\n",
    "        print(n,\"不是質數\",end=\" \")\n",
    "        break\n",
    "    elif c == n-1:\n",
    "        print(n,\"是質數\",end=\" \")\n",
    "if n == 2:\n",
    "    print(n,\"是質數\",end=\" \")"
   ]
  },
  {
   "cell_type": "code",
   "execution_count": null,
   "id": "07747368",
   "metadata": {},
   "outputs": [],
   "source": []
  }
 ],
 "metadata": {
  "kernelspec": {
   "display_name": "Python 3 (ipykernel)",
   "language": "python",
   "name": "python3"
  },
  "language_info": {
   "codemirror_mode": {
    "name": "ipython",
    "version": 3
   },
   "file_extension": ".py",
   "mimetype": "text/x-python",
   "name": "python",
   "nbconvert_exporter": "python",
   "pygments_lexer": "ipython3",
   "version": "3.9.7"
  }
 },
 "nbformat": 4,
 "nbformat_minor": 5
}
