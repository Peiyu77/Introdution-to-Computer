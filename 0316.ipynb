{
 "cells": [
  {
   "cell_type": "code",
   "execution_count": 1,
   "id": "cfeafa80",
   "metadata": {},
   "outputs": [
    {
     "data": {
      "text/plain": [
       "2.1"
      ]
     },
     "execution_count": 1,
     "metadata": {},
     "output_type": "execute_result"
    }
   ],
   "source": [
    "num1 = 1 + 1.1\n",
    "num1"
   ]
  },
  {
   "cell_type": "code",
   "execution_count": 2,
   "id": "b3423a36",
   "metadata": {},
   "outputs": [
    {
     "data": {
      "text/plain": [
       "2"
      ]
     },
     "execution_count": 2,
     "metadata": {},
     "output_type": "execute_result"
    }
   ],
   "source": [
    "int(num1)"
   ]
  },
  {
   "cell_type": "code",
   "execution_count": 3,
   "id": "659e1b35",
   "metadata": {},
   "outputs": [
    {
     "data": {
      "text/plain": [
       "'2.1'"
      ]
     },
     "execution_count": 3,
     "metadata": {},
     "output_type": "execute_result"
    }
   ],
   "source": [
    "str(num1)"
   ]
  },
  {
   "cell_type": "code",
   "execution_count": 4,
   "id": "0624d4d7",
   "metadata": {},
   "outputs": [
    {
     "data": {
      "text/plain": [
       "2"
      ]
     },
     "execution_count": 4,
     "metadata": {},
     "output_type": "execute_result"
    }
   ],
   "source": [
    "num2 = 2\n",
    "num2"
   ]
  },
  {
   "cell_type": "code",
   "execution_count": 5,
   "id": "40de9532",
   "metadata": {},
   "outputs": [
    {
     "data": {
      "text/plain": [
       "2.0"
      ]
     },
     "execution_count": 5,
     "metadata": {},
     "output_type": "execute_result"
    }
   ],
   "source": [
    "float(num2)"
   ]
  },
  {
   "cell_type": "code",
   "execution_count": 6,
   "id": "f3420327",
   "metadata": {},
   "outputs": [
    {
     "name": "stdout",
     "output_type": "stream",
     "text": [
      "<class 'float'>\n"
     ]
    }
   ],
   "source": [
    "print(type(num1))"
   ]
  },
  {
   "cell_type": "code",
   "execution_count": 7,
   "id": "493509fc",
   "metadata": {},
   "outputs": [
    {
     "name": "stdout",
     "output_type": "stream",
     "text": [
      "<class 'int'>\n"
     ]
    }
   ],
   "source": [
    "print(type(num2))"
   ]
  },
  {
   "cell_type": "code",
   "execution_count": 8,
   "id": "3d7731c8",
   "metadata": {},
   "outputs": [],
   "source": [
    "a = 1\n",
    "b = 2\n",
    "c = 3"
   ]
  },
  {
   "cell_type": "code",
   "execution_count": 9,
   "id": "78af1b84",
   "metadata": {},
   "outputs": [
    {
     "name": "stdout",
     "output_type": "stream",
     "text": [
      "1 2 3\n"
     ]
    }
   ],
   "source": [
    "print(a,b,c)"
   ]
  },
  {
   "cell_type": "code",
   "execution_count": 10,
   "id": "68570325",
   "metadata": {},
   "outputs": [
    {
     "name": "stdout",
     "output_type": "stream",
     "text": [
      "[1, 2, 3]\n"
     ]
    }
   ],
   "source": [
    "print([a,b,c])"
   ]
  },
  {
   "cell_type": "code",
   "execution_count": 11,
   "id": "1d0f028e",
   "metadata": {},
   "outputs": [
    {
     "name": "stdout",
     "output_type": "stream",
     "text": [
      "1 [2, 3]\n"
     ]
    }
   ],
   "source": [
    "print(a,[b,c])"
   ]
  },
  {
   "cell_type": "code",
   "execution_count": 12,
   "id": "374db079",
   "metadata": {},
   "outputs": [
    {
     "name": "stdout",
     "output_type": "stream",
     "text": [
      "Hey Hi Hello\n"
     ]
    }
   ],
   "source": [
    "print('Hey' , 'Hi' , 'Hello')"
   ]
  },
  {
   "cell_type": "code",
   "execution_count": 13,
   "id": "b97ec84f",
   "metadata": {},
   "outputs": [
    {
     "name": "stdout",
     "output_type": "stream",
     "text": [
      "Hey_Hi_Hello\n",
      "Hey\tHi\tHello\n",
      "Hey\n",
      "Hi\n",
      "Hello\n"
     ]
    }
   ],
   "source": [
    "print('Hey' , 'Hi' , 'Hello' , sep='_')\n",
    "print('Hey' , 'Hi' , 'Hello' , sep='\\t')\n",
    "print('Hey' , 'Hi' , 'Hello' , sep='\\n')"
   ]
  },
  {
   "cell_type": "code",
   "execution_count": 14,
   "id": "dec247bc",
   "metadata": {},
   "outputs": [
    {
     "name": "stdout",
     "output_type": "stream",
     "text": [
      "早安,\n",
      "同學好！\n",
      "打起精神來！！\n"
     ]
    }
   ],
   "source": [
    "print('早安,')\n",
    "print('同學好！')\n",
    "print('打起精神來！！')"
   ]
  },
  {
   "cell_type": "code",
   "execution_count": 15,
   "id": "30be8b69",
   "metadata": {},
   "outputs": [
    {
     "name": "stdout",
     "output_type": "stream",
     "text": [
      "早安,\n",
      "同學好！\n",
      "打起精神來！！\n"
     ]
    }
   ],
   "source": [
    "print('早安,' , '同學好！' , '打起精神來！！' , sep='\\n')"
   ]
  },
  {
   "cell_type": "code",
   "execution_count": 16,
   "id": "db0b2eb2",
   "metadata": {},
   "outputs": [
    {
     "name": "stdout",
     "output_type": "stream",
     "text": [
      "123\n",
      "456\n"
     ]
    }
   ],
   "source": [
    "print(123)\n",
    "print(456)"
   ]
  },
  {
   "cell_type": "code",
   "execution_count": 17,
   "id": "6f22f611",
   "metadata": {},
   "outputs": [
    {
     "name": "stdout",
     "output_type": "stream",
     "text": [
      "123,456\n"
     ]
    }
   ],
   "source": [
    "print(123,end=',')\n",
    "print(456)"
   ]
  },
  {
   "cell_type": "code",
   "execution_count": 18,
   "id": "9124f402",
   "metadata": {},
   "outputs": [
    {
     "name": "stdout",
     "output_type": "stream",
     "text": [
      "123456\n"
     ]
    }
   ],
   "source": [
    "print(123,end='')\n",
    "print(456)"
   ]
  },
  {
   "cell_type": "code",
   "execution_count": 19,
   "id": "76ef4184",
   "metadata": {},
   "outputs": [
    {
     "name": "stdout",
     "output_type": "stream",
     "text": [
      "早安_同學好_打起精神來!!!"
     ]
    }
   ],
   "source": [
    "print('早安' , '同學好' , '打起精神來' , sep='_' , end='!!!')"
   ]
  },
  {
   "cell_type": "code",
   "execution_count": 20,
   "id": "28c1441c",
   "metadata": {},
   "outputs": [
    {
     "name": "stdout",
     "output_type": "stream",
     "text": [
      "早安,平安順心,健康如意^^"
     ]
    }
   ],
   "source": [
    "print('早安' , '平安順心' , '健康如意' , sep=',' , end='^^')"
   ]
  },
  {
   "cell_type": "code",
   "execution_count": 21,
   "id": "7b5af8d3",
   "metadata": {},
   "outputs": [
    {
     "name": "stdout",
     "output_type": "stream",
     "text": [
      "輸入123\n"
     ]
    }
   ],
   "source": [
    "test1 = input('輸入')"
   ]
  },
  {
   "cell_type": "code",
   "execution_count": 22,
   "id": "3efd3899",
   "metadata": {},
   "outputs": [
    {
     "data": {
      "text/plain": [
       "'123'"
      ]
     },
     "execution_count": 22,
     "metadata": {},
     "output_type": "execute_result"
    }
   ],
   "source": [
    "test1"
   ]
  },
  {
   "cell_type": "code",
   "execution_count": 23,
   "id": "3e5688ec",
   "metadata": {},
   "outputs": [
    {
     "ename": "TypeError",
     "evalue": "can only concatenate str (not \"int\") to str",
     "output_type": "error",
     "traceback": [
      "\u001b[0;31m---------------------------------------------------------------------------\u001b[0m",
      "\u001b[0;31mTypeError\u001b[0m                                 Traceback (most recent call last)",
      "\u001b[0;32m/var/folders/qr/j2mxmtss5430y_6zcwrq0_zr0000gn/T/ipykernel_23511/2459971102.py\u001b[0m in \u001b[0;36m<module>\u001b[0;34m\u001b[0m\n\u001b[0;32m----> 1\u001b[0;31m \u001b[0mtest1\u001b[0m\u001b[0;34m+\u001b[0m\u001b[0;36m1\u001b[0m\u001b[0;34m\u001b[0m\u001b[0;34m\u001b[0m\u001b[0m\n\u001b[0m",
      "\u001b[0;31mTypeError\u001b[0m: can only concatenate str (not \"int\") to str"
     ]
    }
   ],
   "source": [
    "test1+1"
   ]
  },
  {
   "cell_type": "code",
   "execution_count": 24,
   "id": "2eb9e544",
   "metadata": {},
   "outputs": [
    {
     "name": "stdout",
     "output_type": "stream",
     "text": [
      "<class 'str'>\n"
     ]
    }
   ],
   "source": [
    "print(type(test1))"
   ]
  },
  {
   "cell_type": "code",
   "execution_count": 25,
   "id": "051bde5a",
   "metadata": {},
   "outputs": [
    {
     "name": "stdout",
     "output_type": "stream",
     "text": [
      "輸入123\n"
     ]
    }
   ],
   "source": [
    "test2 = int(input('輸入'))"
   ]
  },
  {
   "cell_type": "code",
   "execution_count": 26,
   "id": "120ef450",
   "metadata": {},
   "outputs": [
    {
     "data": {
      "text/plain": [
       "123"
      ]
     },
     "execution_count": 26,
     "metadata": {},
     "output_type": "execute_result"
    }
   ],
   "source": [
    "test2"
   ]
  },
  {
   "cell_type": "code",
   "execution_count": 27,
   "id": "6dfa7c22",
   "metadata": {},
   "outputs": [
    {
     "name": "stdout",
     "output_type": "stream",
     "text": [
      "<class 'int'>\n"
     ]
    }
   ],
   "source": [
    "print(type(test2))"
   ]
  },
  {
   "cell_type": "code",
   "execution_count": 28,
   "id": "d17e5cea",
   "metadata": {},
   "outputs": [
    {
     "data": {
      "text/plain": [
       "124"
      ]
     },
     "execution_count": 28,
     "metadata": {},
     "output_type": "execute_result"
    }
   ],
   "source": [
    "test2+1"
   ]
  },
  {
   "cell_type": "code",
   "execution_count": 30,
   "id": "f24e9e05",
   "metadata": {},
   "outputs": [
    {
     "ename": "SyntaxError",
     "evalue": "invalid syntax (1222540931.py, line 1)",
     "output_type": "error",
     "traceback": [
      "\u001b[0;36m  File \u001b[0;32m\"/var/folders/qr/j2mxmtss5430y_6zcwrq0_zr0000gn/T/ipykernel_23511/1222540931.py\"\u001b[0;36m, line \u001b[0;32m1\u001b[0m\n\u001b[0;31m    print(input'請輸入月份'))\u001b[0m\n\u001b[0m               ^\u001b[0m\n\u001b[0;31mSyntaxError\u001b[0m\u001b[0;31m:\u001b[0m invalid syntax\n"
     ]
    }
   ],
   "source": [
    "print(input'請輸入月份'))\n",
    "print(input'請輸入日期'))"
   ]
  },
  {
   "cell_type": "code",
   "execution_count": 31,
   "id": "86c9d0e9",
   "metadata": {},
   "outputs": [
    {
     "name": "stdout",
     "output_type": "stream",
     "text": [
      "請輸入月份3\n",
      "請輸入日期16\n"
     ]
    }
   ],
   "source": [
    "test3 = int(input('請輸入月份'))\n",
    "test4 = int(input('請輸入日期'))"
   ]
  },
  {
   "cell_type": "markdown",
   "id": "43c8f0ca",
   "metadata": {},
   "source": [
    "今天是3月16號"
   ]
  },
  {
   "cell_type": "code",
   "execution_count": 32,
   "id": "9681d646",
   "metadata": {},
   "outputs": [
    {
     "name": "stdout",
     "output_type": "stream",
     "text": [
      "今天是3月16號\n"
     ]
    }
   ],
   "source": [
    "print('今天是' ,test3,'月' ,test4,'號' ,sep='')"
   ]
  },
  {
   "cell_type": "code",
   "execution_count": 33,
   "id": "afb5d3f8",
   "metadata": {},
   "outputs": [
    {
     "name": "stdout",
     "output_type": "stream",
     "text": [
      "請輸入國文成績10\n",
      "請輸入英文成績20\n",
      "請輸入數學成績30\n",
      "你的成績總分為60\n"
     ]
    }
   ],
   "source": [
    "test5 = int(input('請輸入國文成績'))\n",
    "test6 = int(input('請輸入英文成績'))\n",
    "test7 = int(input('請輸入數學成績'))\n",
    "test8 = int(input('你的成績總分為'))"
   ]
  },
  {
   "cell_type": "code",
   "execution_count": null,
   "id": "64dd32ea",
   "metadata": {},
   "outputs": [],
   "source": []
  }
 ],
 "metadata": {
  "kernelspec": {
   "display_name": "Python 3 (ipykernel)",
   "language": "python",
   "name": "python3"
  },
  "language_info": {
   "codemirror_mode": {
    "name": "ipython",
    "version": 3
   },
   "file_extension": ".py",
   "mimetype": "text/x-python",
   "name": "python",
   "nbconvert_exporter": "python",
   "pygments_lexer": "ipython3",
   "version": "3.9.7"
  }
 },
 "nbformat": 4,
 "nbformat_minor": 5
}
