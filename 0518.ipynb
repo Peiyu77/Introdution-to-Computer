{
 "cells": [
  {
   "cell_type": "code",
   "execution_count": 13,
   "id": "53c0aaf0",
   "metadata": {},
   "outputs": [
    {
     "name": "stdout",
     "output_type": "stream",
     "text": [
      "Hi\n"
     ]
    }
   ],
   "source": [
    "print(\"Hi\")"
   ]
  },
  {
   "cell_type": "code",
   "execution_count": 14,
   "id": "db2955f3",
   "metadata": {},
   "outputs": [],
   "source": [
    "i = range(5)"
   ]
  },
  {
   "cell_type": "code",
   "execution_count": 15,
   "id": "9e7e9a6e",
   "metadata": {},
   "outputs": [
    {
     "name": "stdout",
     "output_type": "stream",
     "text": [
      "<class 'range'>\n"
     ]
    }
   ],
   "source": [
    "print(type(i))"
   ]
  },
  {
   "cell_type": "code",
   "execution_count": 16,
   "id": "1ef4ae58",
   "metadata": {},
   "outputs": [
    {
     "name": "stdout",
     "output_type": "stream",
     "text": [
      "range(0, 5)\n"
     ]
    }
   ],
   "source": [
    "print(i)"
   ]
  },
  {
   "cell_type": "code",
   "execution_count": 17,
   "id": "71842eec",
   "metadata": {},
   "outputs": [
    {
     "name": "stdout",
     "output_type": "stream",
     "text": [
      "[0, 1, 2, 3, 4]\n"
     ]
    }
   ],
   "source": [
    "print(list(i))"
   ]
  },
  {
   "cell_type": "code",
   "execution_count": 18,
   "id": "69dde502",
   "metadata": {},
   "outputs": [],
   "source": [
    "j = range(10)"
   ]
  },
  {
   "cell_type": "code",
   "execution_count": 19,
   "id": "8a709197",
   "metadata": {},
   "outputs": [
    {
     "name": "stdout",
     "output_type": "stream",
     "text": [
      "<class 'range'>\n"
     ]
    }
   ],
   "source": [
    "print(type(j))"
   ]
  },
  {
   "cell_type": "code",
   "execution_count": 20,
   "id": "c51dd10e",
   "metadata": {},
   "outputs": [
    {
     "name": "stdout",
     "output_type": "stream",
     "text": [
      "range(0, 10)\n"
     ]
    }
   ],
   "source": [
    "print(j)"
   ]
  },
  {
   "cell_type": "code",
   "execution_count": 21,
   "id": "3a259565",
   "metadata": {},
   "outputs": [
    {
     "name": "stdout",
     "output_type": "stream",
     "text": [
      "[0, 1, 2, 3, 4, 5, 6, 7, 8, 9]\n"
     ]
    }
   ],
   "source": [
    "print(list(j))"
   ]
  },
  {
   "cell_type": "code",
   "execution_count": 22,
   "id": "67cbcb18",
   "metadata": {},
   "outputs": [
    {
     "name": "stdout",
     "output_type": "stream",
     "text": [
      "[3, 4, 5, 6, 7]\n"
     ]
    }
   ],
   "source": [
    "a = range(3,8)\n",
    "print(list(a))"
   ]
  },
  {
   "cell_type": "code",
   "execution_count": 23,
   "id": "43562b54",
   "metadata": {},
   "outputs": [
    {
     "name": "stdout",
     "output_type": "stream",
     "text": [
      "[-2, -1, 0, 1, 2, 3]\n"
     ]
    }
   ],
   "source": [
    "b = range(-2,4)\n",
    "print(list(b))"
   ]
  },
  {
   "cell_type": "code",
   "execution_count": 24,
   "id": "47bc9448",
   "metadata": {},
   "outputs": [
    {
     "name": "stdout",
     "output_type": "stream",
     "text": [
      "[3, 4, 5, 6, 7]\n"
     ]
    }
   ],
   "source": [
    "c = range(3,8,1)\n",
    "print(list(c))"
   ]
  },
  {
   "cell_type": "code",
   "execution_count": 25,
   "id": "0ac08e20",
   "metadata": {},
   "outputs": [
    {
     "name": "stdout",
     "output_type": "stream",
     "text": [
      "0,1,2,"
     ]
    }
   ],
   "source": [
    "for n in range(3):\n",
    "    print(n,end =\",\")"
   ]
  },
  {
   "cell_type": "code",
   "execution_count": 26,
   "id": "f2625164",
   "metadata": {},
   "outputs": [
    {
     "name": "stdout",
     "output_type": "stream",
     "text": [
      "[0, 1, 2, 3, 4, 5, 6, 7, 8]\n",
      "[1, 2, 3, 4, 5, 6, 7, 8, 9]\n",
      "[1, 3, 5, 7, 9]\n",
      "[10, 8, 6, 4, 2]\n"
     ]
    }
   ],
   "source": [
    "f = range(9)\n",
    "print(list(f))\n",
    "g = range(1,10)\n",
    "print(list(g))\n",
    "h = range(1,10,2)\n",
    "print(list(h))\n",
    "i = range(10,1,-2)\n",
    "print(list(i))"
   ]
  },
  {
   "cell_type": "code",
   "execution_count": 27,
   "id": "76cbb45c",
   "metadata": {},
   "outputs": [
    {
     "name": "stdout",
     "output_type": "stream",
     "text": [
      "0,1,2,3,4,5,6,7,8,9,"
     ]
    }
   ],
   "source": [
    "for n in range(10):\n",
    "    print(n,end =\",\")"
   ]
  },
  {
   "cell_type": "code",
   "execution_count": 28,
   "id": "ad691e33",
   "metadata": {},
   "outputs": [
    {
     "name": "stdout",
     "output_type": "stream",
     "text": [
      "請輸入一個正整數：10\n",
      "1 2 3 4 5 6 7 8 9 10 "
     ]
    }
   ],
   "source": [
    "test = int(input(\"請輸入一個正整數：\"))\n",
    "for m in range(1,test+1):\n",
    "    print(m,end = \" \")"
   ]
  },
  {
   "cell_type": "code",
   "execution_count": 29,
   "id": "3db76583",
   "metadata": {},
   "outputs": [
    {
     "name": "stdout",
     "output_type": "stream",
     "text": [
      "請輸入一個正整數：10\n",
      "1 3 5 7 9 "
     ]
    }
   ],
   "source": [
    "test = int(input(\"請輸入一個正整數：\"))\n",
    "for m in range(1,test+1,2):\n",
    "    print(m,end = \" \")"
   ]
  },
  {
   "cell_type": "code",
   "execution_count": 30,
   "id": "bc8e8156",
   "metadata": {},
   "outputs": [
    {
     "name": "stdout",
     "output_type": "stream",
     "text": [
      "3\n"
     ]
    }
   ],
   "source": [
    "sum = 0\n",
    "for n in range(3):\n",
    "    sum = sum+n\n",
    "print(sum)"
   ]
  },
  {
   "cell_type": "code",
   "execution_count": 31,
   "id": "ec7fab91",
   "metadata": {},
   "outputs": [
    {
     "name": "stdout",
     "output_type": "stream",
     "text": [
      "10\n"
     ]
    }
   ],
   "source": [
    "sum = 0\n",
    "for n in range(5):\n",
    "    sum = sum+n\n",
    "print(sum)"
   ]
  },
  {
   "cell_type": "code",
   "execution_count": 32,
   "id": "5c85e229",
   "metadata": {},
   "outputs": [
    {
     "name": "stdout",
     "output_type": "stream",
     "text": [
      "請輸入一個正整數：10\n",
      "55\n"
     ]
    }
   ],
   "source": [
    "test = int(input(\"請輸入一個正整數：\"))\n",
    "sum = 0\n",
    "for n in range(1,test+1):\n",
    "    sum = sum+n\n",
    "print(sum)"
   ]
  },
  {
   "cell_type": "code",
   "execution_count": 33,
   "id": "31ea766e",
   "metadata": {},
   "outputs": [
    {
     "name": "stdout",
     "output_type": "stream",
     "text": [
      "請輸入一個正整數：50\n",
      "1275\n"
     ]
    }
   ],
   "source": [
    "test = int(input(\"請輸入一個正整數：\"))\n",
    "sum = 0\n",
    "for n in range(1,test+1):\n",
    "    sum = sum+n\n",
    "print(sum)"
   ]
  },
  {
   "cell_type": "code",
   "execution_count": 12,
   "id": "cf09ee63",
   "metadata": {},
   "outputs": [
    {
     "name": "stdout",
     "output_type": "stream",
     "text": [
      "請輸入一個正整數:10\n",
      "1到 1 的整數和為: 1\n",
      "1到 2 的整數和為: 3\n",
      "1到 3 的整數和為: 6\n",
      "1到 4 的整數和為: 10\n",
      "1到 5 的整數和為: 15\n",
      "1到 6 的整數和為: 21\n",
      "1到 7 的整數和為: 28\n",
      "1到 8 的整數和為: 36\n",
      "1到 9 的整數和為: 45\n",
      "1到 10 的整數和為: 55\n"
     ]
    }
   ],
   "source": [
    "s = int(input('請輸入一個正整數:'))\n",
    "sum = 0\n",
    "for i in range(1, s+1, 1):\n",
    "        sum = sum + i\n",
    "        print('1到',i , '的整數和為:', sum)"
   ]
  }
 ],
 "metadata": {
  "kernelspec": {
   "display_name": "Python 3 (ipykernel)",
   "language": "python",
   "name": "python3"
  },
  "language_info": {
   "codemirror_mode": {
    "name": "ipython",
    "version": 3
   },
   "file_extension": ".py",
   "mimetype": "text/x-python",
   "name": "python",
   "nbconvert_exporter": "python",
   "pygments_lexer": "ipython3",
   "version": "3.9.7"
  }
 },
 "nbformat": 4,
 "nbformat_minor": 5
}
