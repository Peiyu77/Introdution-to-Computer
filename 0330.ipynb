{
 "cells": [
  {
   "cell_type": "code",
   "execution_count": 1,
   "id": "e87d39cc",
   "metadata": {},
   "outputs": [
    {
     "name": "stdout",
     "output_type": "stream",
     "text": [
      "Hi\n"
     ]
    }
   ],
   "source": [
    "print('Hi')"
   ]
  },
  {
   "cell_type": "code",
   "execution_count": 2,
   "id": "69da8432",
   "metadata": {},
   "outputs": [
    {
     "data": {
      "text/plain": [
       "True"
      ]
     },
     "execution_count": 2,
     "metadata": {},
     "output_type": "execute_result"
    }
   ],
   "source": [
    "not(3>5)"
   ]
  },
  {
   "cell_type": "code",
   "execution_count": 3,
   "id": "06b57471",
   "metadata": {},
   "outputs": [
    {
     "data": {
      "text/plain": [
       "False"
      ]
     },
     "execution_count": 3,
     "metadata": {},
     "output_type": "execute_result"
    }
   ],
   "source": [
    "not(5>3)"
   ]
  },
  {
   "cell_type": "code",
   "execution_count": 4,
   "id": "e9b96053",
   "metadata": {},
   "outputs": [
    {
     "data": {
      "text/plain": [
       "True"
      ]
     },
     "execution_count": 4,
     "metadata": {},
     "output_type": "execute_result"
    }
   ],
   "source": [
    "(5>3) and (9>6)"
   ]
  },
  {
   "cell_type": "code",
   "execution_count": 5,
   "id": "bc240535",
   "metadata": {},
   "outputs": [
    {
     "data": {
      "text/plain": [
       "False"
      ]
     },
     "execution_count": 5,
     "metadata": {},
     "output_type": "execute_result"
    }
   ],
   "source": [
    "(5>3) and (9<6)"
   ]
  },
  {
   "cell_type": "code",
   "execution_count": 6,
   "id": "170805a6",
   "metadata": {},
   "outputs": [
    {
     "data": {
      "text/plain": [
       "False"
      ]
     },
     "execution_count": 6,
     "metadata": {},
     "output_type": "execute_result"
    }
   ],
   "source": [
    "(5<3) and (9>6)"
   ]
  },
  {
   "cell_type": "code",
   "execution_count": 7,
   "id": "ddf10589",
   "metadata": {},
   "outputs": [
    {
     "data": {
      "text/plain": [
       "False"
      ]
     },
     "execution_count": 7,
     "metadata": {},
     "output_type": "execute_result"
    }
   ],
   "source": [
    "(5<3) and (9<6)"
   ]
  },
  {
   "cell_type": "code",
   "execution_count": 8,
   "id": "a3ea3d9b",
   "metadata": {},
   "outputs": [
    {
     "data": {
      "text/plain": [
       "True"
      ]
     },
     "execution_count": 8,
     "metadata": {},
     "output_type": "execute_result"
    }
   ],
   "source": [
    "(5>3) or (9>6)"
   ]
  },
  {
   "cell_type": "code",
   "execution_count": 9,
   "id": "a492d311",
   "metadata": {},
   "outputs": [
    {
     "data": {
      "text/plain": [
       "True"
      ]
     },
     "execution_count": 9,
     "metadata": {},
     "output_type": "execute_result"
    }
   ],
   "source": [
    "(5>3) or (9<6)"
   ]
  },
  {
   "cell_type": "code",
   "execution_count": 10,
   "id": "50ef16cb",
   "metadata": {},
   "outputs": [
    {
     "data": {
      "text/plain": [
       "True"
      ]
     },
     "execution_count": 10,
     "metadata": {},
     "output_type": "execute_result"
    }
   ],
   "source": [
    "(5<3) or (9>6)"
   ]
  },
  {
   "cell_type": "code",
   "execution_count": 11,
   "id": "434559e3",
   "metadata": {},
   "outputs": [
    {
     "data": {
      "text/plain": [
       "False"
      ]
     },
     "execution_count": 11,
     "metadata": {},
     "output_type": "execute_result"
    }
   ],
   "source": [
    "(5<3) or (9<6)"
   ]
  },
  {
   "cell_type": "code",
   "execution_count": 12,
   "id": "ebf76ec3",
   "metadata": {},
   "outputs": [],
   "source": [
    "A = 1"
   ]
  },
  {
   "cell_type": "code",
   "execution_count": 13,
   "id": "4c353863",
   "metadata": {},
   "outputs": [],
   "source": [
    "i = 10"
   ]
  },
  {
   "cell_type": "code",
   "execution_count": 14,
   "id": "c80ac19b",
   "metadata": {},
   "outputs": [
    {
     "data": {
      "text/plain": [
       "15"
      ]
     },
     "execution_count": 14,
     "metadata": {},
     "output_type": "execute_result"
    }
   ],
   "source": [
    "i += 5\n",
    "i"
   ]
  },
  {
   "cell_type": "code",
   "execution_count": 15,
   "id": "3c640a71",
   "metadata": {},
   "outputs": [
    {
     "data": {
      "text/plain": [
       "10"
      ]
     },
     "execution_count": 15,
     "metadata": {},
     "output_type": "execute_result"
    }
   ],
   "source": [
    "i -= 5\n",
    "i"
   ]
  },
  {
   "cell_type": "code",
   "execution_count": 16,
   "id": "243c2b41",
   "metadata": {},
   "outputs": [
    {
     "data": {
      "text/plain": [
       "5"
      ]
     },
     "execution_count": 16,
     "metadata": {},
     "output_type": "execute_result"
    }
   ],
   "source": [
    "i = 10\n",
    "i -= 5\n",
    "i"
   ]
  },
  {
   "cell_type": "code",
   "execution_count": 17,
   "id": "9b249316",
   "metadata": {},
   "outputs": [
    {
     "data": {
      "text/plain": [
       "25"
      ]
     },
     "execution_count": 17,
     "metadata": {},
     "output_type": "execute_result"
    }
   ],
   "source": [
    "i *= 5\n",
    "i"
   ]
  },
  {
   "cell_type": "code",
   "execution_count": 18,
   "id": "cdf0b51f",
   "metadata": {},
   "outputs": [
    {
     "data": {
      "text/plain": [
       "5.0"
      ]
     },
     "execution_count": 18,
     "metadata": {},
     "output_type": "execute_result"
    }
   ],
   "source": [
    "i /= 5\n",
    "i"
   ]
  },
  {
   "cell_type": "code",
   "execution_count": 19,
   "id": "f0c54d23",
   "metadata": {},
   "outputs": [
    {
     "data": {
      "text/plain": [
       "0.0"
      ]
     },
     "execution_count": 19,
     "metadata": {},
     "output_type": "execute_result"
    }
   ],
   "source": [
    "i %= 5\n",
    "i"
   ]
  },
  {
   "cell_type": "code",
   "execution_count": 20,
   "id": "1d809c24",
   "metadata": {},
   "outputs": [
    {
     "data": {
      "text/plain": [
       "0.0"
      ]
     },
     "execution_count": 20,
     "metadata": {},
     "output_type": "execute_result"
    }
   ],
   "source": [
    "i //= 5\n",
    "i"
   ]
  },
  {
   "cell_type": "code",
   "execution_count": 21,
   "id": "6b4cfbd1",
   "metadata": {},
   "outputs": [
    {
     "data": {
      "text/plain": [
       "0.0"
      ]
     },
     "execution_count": 21,
     "metadata": {},
     "output_type": "execute_result"
    }
   ],
   "source": [
    "i **= 3\n",
    "i"
   ]
  },
  {
   "cell_type": "code",
   "execution_count": 22,
   "id": "632025f2",
   "metadata": {},
   "outputs": [
    {
     "name": "stdout",
     "output_type": "stream",
     "text": [
      "3\n"
     ]
    }
   ],
   "source": [
    "print(1+2)"
   ]
  },
  {
   "cell_type": "code",
   "execution_count": 23,
   "id": "d58b6cc9",
   "metadata": {},
   "outputs": [
    {
     "name": "stdout",
     "output_type": "stream",
     "text": [
      "12\n"
     ]
    }
   ],
   "source": [
    "print('1'+'2')"
   ]
  },
  {
   "cell_type": "code",
   "execution_count": 24,
   "id": "4cf8d9d7",
   "metadata": {},
   "outputs": [
    {
     "name": "stdout",
     "output_type": "stream",
     "text": [
      "你好!\n"
     ]
    }
   ],
   "source": [
    "print('你'+'好'+'!')"
   ]
  },
  {
   "cell_type": "code",
   "execution_count": 25,
   "id": "4a39fd10",
   "metadata": {},
   "outputs": [
    {
     "name": "stdout",
     "output_type": "stream",
     "text": [
      "請輸入本金存款金額:10000\n",
      "六年後的存款為: 11261.62419264\n"
     ]
    }
   ],
   "source": [
    "deposit = int(input('請輸入本金存款金額:'))\n",
    "years = 1.02**6\n",
    "deposit *= years\n",
    "print('六年後的存款為:', deposit)"
   ]
  },
  {
   "cell_type": "code",
   "execution_count": 26,
   "id": "240a29b4",
   "metadata": {},
   "outputs": [
    {
     "name": "stdout",
     "output_type": "stream",
     "text": [
      "請輸入本金存款金額:10000\n",
      "六年後的存款為:11261.62419264\n"
     ]
    }
   ],
   "source": [
    "deposit = int(input('請輸入本金存款金額:'))\n",
    "years = 1.02**6\n",
    "deposit *= years\n",
    "print('六年後的存款為:' + str(deposit))"
   ]
  },
  {
   "cell_type": "code",
   "execution_count": 27,
   "id": "ad78875b",
   "metadata": {},
   "outputs": [
    {
     "name": "stdout",
     "output_type": "stream",
     "text": [
      "請輸入密碼1234\n",
      "歡迎光臨！\n"
     ]
    }
   ],
   "source": [
    "pw = input('請輸入密碼')\n",
    "if (pw == '1234'):\n",
    "    print('歡迎光臨！')"
   ]
  },
  {
   "cell_type": "code",
   "execution_count": 28,
   "id": "cd52b5af",
   "metadata": {},
   "outputs": [
    {
     "name": "stdout",
     "output_type": "stream",
     "text": [
      "請輸入密碼1111\n"
     ]
    }
   ],
   "source": [
    "pw = input('請輸入密碼')\n",
    "if (pw == '1234'):\n",
    "    print('歡迎光臨！')"
   ]
  },
  {
   "cell_type": "code",
   "execution_count": 29,
   "id": "ff2f45a3",
   "metadata": {},
   "outputs": [
    {
     "name": "stdout",
     "output_type": "stream",
     "text": [
      "今天會下雨嗎？Y\n",
      "出門記得帶傘！\n"
     ]
    }
   ],
   "source": [
    "rain = input(\"今天會下雨嗎？\")\n",
    "if (rain==\"Y\" or rain==\"y\"):\n",
    "    print(\"出門記得帶傘！\")"
   ]
  },
  {
   "cell_type": "code",
   "execution_count": 30,
   "id": "924a55f1",
   "metadata": {},
   "outputs": [
    {
     "name": "stdout",
     "output_type": "stream",
     "text": [
      "今天會下雨嗎？y\n",
      "出門記得帶傘！\n"
     ]
    }
   ],
   "source": [
    "rain = input(\"今天會下雨嗎？\")\n",
    "if (rain==\"Y\" or rain==\"y\"):\n",
    "    print(\"出門記得帶傘！\")"
   ]
  },
  {
   "cell_type": "code",
   "execution_count": 31,
   "id": "68120b7b",
   "metadata": {},
   "outputs": [
    {
     "ename": "SyntaxError",
     "evalue": "invalid syntax (2963772154.py, line 4)",
     "output_type": "error",
     "traceback": [
      "\u001b[0;36m  File \u001b[0;32m\"/var/folders/qr/j2mxmtss5430y_6zcwrq0_zr0000gn/T/ipykernel_55585/2963772154.py\"\u001b[0;36m, line \u001b[0;32m4\u001b[0m\n\u001b[0;31m    else print('不用帶傘！')\u001b[0m\n\u001b[0m         ^\u001b[0m\n\u001b[0;31mSyntaxError\u001b[0m\u001b[0;31m:\u001b[0m invalid syntax\n"
     ]
    }
   ],
   "source": [
    "rain = input(\"今天會下雨嗎？\")\n",
    "if (rain==\"Y\" or rain==\"y\"):\n",
    "    print(\"出門記得帶傘！\")\n",
    "else print('不用帶傘！')"
   ]
  },
  {
   "cell_type": "code",
   "execution_count": 32,
   "id": "beee8af4",
   "metadata": {},
   "outputs": [
    {
     "name": "stdout",
     "output_type": "stream",
     "text": [
      "今天會下雨嗎？a\n",
      "不用帶傘!\n"
     ]
    }
   ],
   "source": [
    "rain = input(\"今天會下雨嗎？\")\n",
    "if (rain==\"Y\" or rain==\"y\"):\n",
    "    print(\"出門記得帶傘！\")\n",
    "else:\n",
    "    print(\"不用帶傘!\")"
   ]
  },
  {
   "cell_type": "code",
   "execution_count": 33,
   "id": "09838583",
   "metadata": {},
   "outputs": [
    {
     "ename": "SyntaxError",
     "evalue": "invalid syntax (2887787766.py, line 2)",
     "output_type": "error",
     "traceback": [
      "\u001b[0;36m  File \u001b[0;32m\"/var/folders/qr/j2mxmtss5430y_6zcwrq0_zr0000gn/T/ipykernel_55585/2887787766.py\"\u001b[0;36m, line \u001b[0;32m2\u001b[0m\n\u001b[0;31m    if (number%2:)\u001b[0m\n\u001b[0m                ^\u001b[0m\n\u001b[0;31mSyntaxError\u001b[0m\u001b[0;31m:\u001b[0m invalid syntax\n"
     ]
    }
   ],
   "source": [
    "number = input('請輸入正整數')\n",
    "if (number%2:)\n",
    "    print(number,'奇數')\n",
    "else:\n",
    "    print(number,'偶數')"
   ]
  },
  {
   "cell_type": "code",
   "execution_count": 34,
   "id": "fea75af5",
   "metadata": {},
   "outputs": [
    {
     "name": "stdout",
     "output_type": "stream",
     "text": [
      "請輸入正整數13\n"
     ]
    },
    {
     "ename": "TypeError",
     "evalue": "not all arguments converted during string formatting",
     "output_type": "error",
     "traceback": [
      "\u001b[0;31m---------------------------------------------------------------------------\u001b[0m",
      "\u001b[0;31mTypeError\u001b[0m                                 Traceback (most recent call last)",
      "\u001b[0;32m/var/folders/qr/j2mxmtss5430y_6zcwrq0_zr0000gn/T/ipykernel_55585/2899068437.py\u001b[0m in \u001b[0;36m<module>\u001b[0;34m\u001b[0m\n\u001b[1;32m      1\u001b[0m \u001b[0mnumber\u001b[0m \u001b[0;34m=\u001b[0m \u001b[0minput\u001b[0m\u001b[0;34m(\u001b[0m\u001b[0;34m'請輸入正整數'\u001b[0m\u001b[0;34m)\u001b[0m\u001b[0;34m\u001b[0m\u001b[0;34m\u001b[0m\u001b[0m\n\u001b[0;32m----> 2\u001b[0;31m \u001b[0;32mif\u001b[0m \u001b[0mnumber\u001b[0m\u001b[0;34m%\u001b[0m\u001b[0;36m2\u001b[0m\u001b[0;34m:\u001b[0m\u001b[0;34m\u001b[0m\u001b[0;34m\u001b[0m\u001b[0m\n\u001b[0m\u001b[1;32m      3\u001b[0m     \u001b[0mprint\u001b[0m\u001b[0;34m(\u001b[0m\u001b[0mnumber\u001b[0m\u001b[0;34m,\u001b[0m\u001b[0;34m'奇數'\u001b[0m\u001b[0;34m)\u001b[0m\u001b[0;34m\u001b[0m\u001b[0;34m\u001b[0m\u001b[0m\n\u001b[1;32m      4\u001b[0m \u001b[0;32melse\u001b[0m\u001b[0;34m:\u001b[0m\u001b[0;34m\u001b[0m\u001b[0;34m\u001b[0m\u001b[0m\n\u001b[1;32m      5\u001b[0m     \u001b[0mprint\u001b[0m\u001b[0;34m(\u001b[0m\u001b[0mnumber\u001b[0m\u001b[0;34m,\u001b[0m\u001b[0;34m'偶數'\u001b[0m\u001b[0;34m)\u001b[0m\u001b[0;34m\u001b[0m\u001b[0;34m\u001b[0m\u001b[0m\n",
      "\u001b[0;31mTypeError\u001b[0m: not all arguments converted during string formatting"
     ]
    }
   ],
   "source": [
    "number = input('請輸入正整數')\n",
    "if number%2:\n",
    "    print(number,'奇數')\n",
    "else:\n",
    "    print(number,'偶數')"
   ]
  },
  {
   "cell_type": "code",
   "execution_count": 35,
   "id": "4b92820d",
   "metadata": {},
   "outputs": [
    {
     "name": "stdout",
     "output_type": "stream",
     "text": [
      "請輸入正整數15\n",
      "15 奇數\n"
     ]
    }
   ],
   "source": [
    "number = int(input('請輸入正整數'))\n",
    "if number%2:\n",
    "    print(number,'奇數')\n",
    "else:\n",
    "    print(number,'偶數')"
   ]
  },
  {
   "cell_type": "code",
   "execution_count": 36,
   "id": "506d87fb",
   "metadata": {},
   "outputs": [
    {
     "name": "stdout",
     "output_type": "stream",
     "text": [
      "請輸入正整數22\n",
      "22 偶數\n"
     ]
    }
   ],
   "source": [
    "number = int(input('請輸入正整數'))\n",
    "if number%2:\n",
    "    print(number,'奇數')\n",
    "else:\n",
    "    print(number,'偶數')"
   ]
  }
 ],
 "metadata": {
  "kernelspec": {
   "display_name": "Python 3 (ipykernel)",
   "language": "python",
   "name": "python3"
  },
  "language_info": {
   "codemirror_mode": {
    "name": "ipython",
    "version": 3
   },
   "file_extension": ".py",
   "mimetype": "text/x-python",
   "name": "python",
   "nbconvert_exporter": "python",
   "pygments_lexer": "ipython3",
   "version": "3.9.7"
  }
 },
 "nbformat": 4,
 "nbformat_minor": 5
}
