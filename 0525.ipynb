{
 "cells": [
  {
   "cell_type": "code",
   "execution_count": 2,
   "id": "2ea4dec9",
   "metadata": {},
   "outputs": [
    {
     "name": "stdout",
     "output_type": "stream",
     "text": [
      "請輸入一個正整數：50\n",
      "1到 50 的整數和為: 1275\n"
     ]
    }
   ],
   "source": [
    "sum = 0\n",
    "test = int(input(\"請輸入一個正整數：\"))\n",
    "for n in range(1,test+1):\n",
    "    sum = sum+n\n",
    "print('1到',test,'的整數和為:', sum)"
   ]
  },
  {
   "cell_type": "code",
   "execution_count": 4,
   "id": "a4342bfd",
   "metadata": {},
   "outputs": [
    {
     "name": "stdout",
     "output_type": "stream",
     "text": [
      "請輸入一個正整數：50\n",
      "1到1的整數和為：  1\n",
      "1到2的整數和為：  3\n",
      "1到3的整數和為：  6\n",
      "1到4的整數和為：  10\n",
      "1到5的整數和為：  15\n",
      "1到6的整數和為：  21\n",
      "1到7的整數和為：  28\n",
      "1到8的整數和為：  36\n",
      "1到9的整數和為：  45\n",
      "1到10的整數和為：  55\n",
      "1到11的整數和為：  66\n",
      "1到12的整數和為：  78\n",
      "1到13的整數和為：  91\n",
      "1到14的整數和為：  105\n",
      "1到15的整數和為：  120\n",
      "1到16的整數和為：  136\n",
      "1到17的整數和為：  153\n",
      "1到18的整數和為：  171\n",
      "1到19的整數和為：  190\n",
      "1到20的整數和為：  210\n",
      "1到21的整數和為：  231\n",
      "1到22的整數和為：  253\n",
      "1到23的整數和為：  276\n",
      "1到24的整數和為：  300\n",
      "1到25的整數和為：  325\n",
      "1到26的整數和為：  351\n",
      "1到27的整數和為：  378\n",
      "1到28的整數和為：  406\n",
      "1到29的整數和為：  435\n",
      "1到30的整數和為：  465\n",
      "1到31的整數和為：  496\n",
      "1到32的整數和為：  528\n",
      "1到33的整數和為：  561\n",
      "1到34的整數和為：  595\n",
      "1到35的整數和為：  630\n",
      "1到36的整數和為：  666\n",
      "1到37的整數和為：  703\n",
      "1到38的整數和為：  741\n",
      "1到39的整數和為：  780\n",
      "1到40的整數和為：  820\n",
      "1到41的整數和為：  861\n",
      "1到42的整數和為：  903\n",
      "1到43的整數和為：  946\n",
      "1到44的整數和為：  990\n",
      "1到45的整數和為：  1035\n",
      "1到46的整數和為：  1081\n",
      "1到47的整數和為：  1128\n",
      "1到48的整數和為：  1176\n",
      "1到49的整數和為：  1225\n",
      "1到50的整數和為：  1275\n"
     ]
    }
   ],
   "source": [
    "sum = 0\n",
    "test = int(input(\"請輸入一個正整數：\"))\n",
    "for m in range(1,test+1 ):\n",
    "    sum = sum+m\n",
    "    print(\"1到\"+str(m)+\"的整數和為： \",sum)"
   ]
  },
  {
   "cell_type": "code",
   "execution_count": 6,
   "id": "52abe584",
   "metadata": {},
   "outputs": [
    {
     "name": "stdout",
     "output_type": "stream",
     "text": [
      "1\n",
      "1 * 1 = 1\n",
      "1 * 2 = 2\n",
      "2\n",
      "2 * 1 = 2\n",
      "2 * 2 = 4\n",
      "3\n",
      "3 * 1 = 3\n",
      "3 * 2 = 6\n",
      "4\n",
      "4 * 1 = 4\n",
      "4 * 2 = 8\n"
     ]
    }
   ],
   "source": [
    "for j in range(1,5):\n",
    "    print(j)\n",
    "    for i in range(1,3):\n",
    "        k=i*j\n",
    "        print(j,\"*\",i,\"=\",k)"
   ]
  },
  {
   "cell_type": "code",
   "execution_count": 7,
   "id": "569bda7d",
   "metadata": {},
   "outputs": [
    {
     "name": "stdout",
     "output_type": "stream",
     "text": [
      "1\n",
      "1 * 1 = 1\n",
      "1 * 2 = 2\n",
      "2\n",
      "2 * 1 = 2\n",
      "2 * 2 = 4\n",
      "3\n",
      "3 * 1 = 3\n",
      "3 * 2 = 6\n",
      "4\n",
      "4 * 1 = 4\n",
      "4 * 2 = 8\n",
      "5\n",
      "5 * 1 = 5\n",
      "5 * 2 = 10\n"
     ]
    }
   ],
   "source": [
    "for j in range(1,6):\n",
    "    print(j)\n",
    "    for i in range(1,3):\n",
    "        k=i*j\n",
    "        print(j,\"*\",i,\"=\",k)"
   ]
  },
  {
   "cell_type": "code",
   "execution_count": 8,
   "id": "f7219774",
   "metadata": {},
   "outputs": [
    {
     "name": "stdout",
     "output_type": "stream",
     "text": [
      "1 2 3 "
     ]
    }
   ],
   "source": [
    "for i in range(1, 5):\n",
    "    if(i==4):\n",
    "        break\n",
    "    print(i, end= \" \")"
   ]
  },
  {
   "cell_type": "code",
   "execution_count": 9,
   "id": "58112db5",
   "metadata": {},
   "outputs": [
    {
     "name": "stdout",
     "output_type": "stream",
     "text": [
      "1 2 3 "
     ]
    }
   ],
   "source": [
    "for i in range(1, 5):\n",
    "    if(i==4):\n",
    "        continue\n",
    "    print(i, end= \" \")"
   ]
  },
  {
   "cell_type": "code",
   "execution_count": 10,
   "id": "0417f74b",
   "metadata": {},
   "outputs": [
    {
     "name": "stdout",
     "output_type": "stream",
     "text": [
      "H\n",
      "e\n",
      "l\n",
      "l\n"
     ]
    }
   ],
   "source": [
    "count = 0\n",
    "for string in 'Hello':\n",
    "    count+=1\n",
    "    if string == 'o':\n",
    "        break\n",
    "    print(string)"
   ]
  },
  {
   "cell_type": "code",
   "execution_count": 11,
   "id": "ebbed035",
   "metadata": {},
   "outputs": [
    {
     "name": "stdout",
     "output_type": "stream",
     "text": [
      "H\n",
      "e\n",
      "l\n",
      "l\n",
      "迴圈結束\n",
      "迴圈執行了 5 次\n"
     ]
    }
   ],
   "source": [
    "count = 0\n",
    "for string in 'Hello':\n",
    "    count+=1\n",
    "    if string == 'o':\n",
    "        break\n",
    "    print(string)\n",
    "print(\"迴圈結束\")\n",
    "print(\"迴圈執行了 %d 次\" %count)"
   ]
  },
  {
   "cell_type": "code",
   "execution_count": 12,
   "id": "79fed6d5",
   "metadata": {},
   "outputs": [
    {
     "name": "stdout",
     "output_type": "stream",
     "text": [
      "測\n",
      "試\n",
      "迴圈結束\n",
      "迴圈執行了 3 次\n"
     ]
    }
   ],
   "source": [
    "count = 0\n",
    "for string in '測試看看':\n",
    "    count+=1\n",
    "    if string == '看':\n",
    "        break\n",
    "    print(string)\n",
    "print(\"迴圈結束\")\n",
    "print(\"迴圈執行了 %d 次\" %count)"
   ]
  },
  {
   "cell_type": "code",
   "execution_count": 21,
   "id": "b9f762c8",
   "metadata": {},
   "outputs": [
    {
     "name": "stdout",
     "output_type": "stream",
     "text": [
      "2 * 1 = 02 2 * 2 = 04 2 * 3 = 06 2 * 4 = 08 2 * 5 = 10 2 * 6 = 12 2 * 7 = 14 2 * 8 = 16 2 * 9 = 18 \n",
      "3 * 1 = 03 3 * 2 = 06 3 * 3 = 09 3 * 4 = 12 3 * 5 = 15 3 * 6 = 18 3 * 7 = 21 3 * 8 = 24 3 * 9 = 27 \n",
      "4 * 1 = 04 4 * 2 = 08 4 * 3 = 12 4 * 4 = 16 4 * 5 = 20 4 * 6 = 24 4 * 7 = 28 4 * 8 = 32 4 * 9 = 36 \n",
      "5 * 1 = 05 5 * 2 = 10 5 * 3 = 15 5 * 4 = 20 5 * 5 = 25 5 * 6 = 30 5 * 7 = 35 5 * 8 = 40 5 * 9 = 45 \n",
      "6 * 1 = 06 6 * 2 = 12 6 * 3 = 18 6 * 4 = 24 6 * 5 = 30 6 * 6 = 36 6 * 7 = 42 6 * 8 = 48 6 * 9 = 54 \n",
      "7 * 1 = 07 7 * 2 = 14 7 * 3 = 21 7 * 4 = 28 7 * 5 = 35 7 * 6 = 42 7 * 7 = 49 7 * 8 = 56 7 * 9 = 63 \n",
      "8 * 1 = 08 8 * 2 = 16 8 * 3 = 24 8 * 4 = 32 8 * 5 = 40 8 * 6 = 48 8 * 7 = 56 8 * 8 = 64 8 * 9 = 72 \n",
      "9 * 1 = 09 9 * 2 = 18 9 * 3 = 27 9 * 4 = 36 9 * 5 = 45 9 * 6 = 54 9 * 7 = 63 9 * 8 = 72 9 * 9 = 81 \n"
     ]
    }
   ],
   "source": [
    "for j in range(2,10):\n",
    "    for i in range(1,10):\n",
    "        k=i*j\n",
    "        print(\"%d * %d = %0.2d\" % (j,i, j*i), end = (\" \"))\n",
    "    print()"
   ]
  },
  {
   "cell_type": "code",
   "execution_count": 17,
   "id": "cb172fce",
   "metadata": {},
   "outputs": [
    {
     "name": "stdout",
     "output_type": "stream",
     "text": [
      "請輸入 a 的值：4\n",
      "請輸入 b 的值：6\n",
      "最小公倍數 = 12\n"
     ]
    }
   ],
   "source": [
    "a = int(input(\"請輸入 a 的值：\"))\n",
    "b = int(input(\"請輸入 b 的值：\"))\n",
    "for i in range(1,(a*b)+1):\n",
    "    if (i % a == 0 and i % b == 0):\n",
    "        break\n",
    "print(\"最小公倍數 = %d\" %(i))"
   ]
  },
  {
   "cell_type": "code",
   "execution_count": 18,
   "id": "1d562098",
   "metadata": {},
   "outputs": [
    {
     "name": "stdout",
     "output_type": "stream",
     "text": [
      "請輸入 a 的值：9\n",
      "請輸入 b 的值：15\n",
      "最小公倍數 = 45\n"
     ]
    }
   ],
   "source": [
    "a = int(input(\"請輸入 a 的值：\"))\n",
    "b = int(input(\"請輸入 b 的值：\"))\n",
    "for i in range(1,(a*b)+1):\n",
    "    if (i % a == 0 and i % b == 0):\n",
    "        break\n",
    "print(\"最小公倍數 = %d\" %(i))"
   ]
  },
  {
   "cell_type": "code",
   "execution_count": 16,
   "id": "f78b8a29",
   "metadata": {},
   "outputs": [
    {
     "name": "stdout",
     "output_type": "stream",
     "text": [
      "請輸入正整數：12\n",
      "1 2 3 4 6 7 8 9 11 12 "
     ]
    }
   ],
   "source": [
    "a = int(input(\"請輸入正整數：\"))\n",
    "for i in range(1,a+1):\n",
    "    if i % 5 == 0:\n",
    "        continue\n",
    "    print(i , end =\" \")"
   ]
  },
  {
   "cell_type": "code",
   "execution_count": 15,
   "id": "6b95dab7",
   "metadata": {},
   "outputs": [
    {
     "name": "stdout",
     "output_type": "stream",
     "text": [
      "請輸入正整數：21\n",
      "1 2 3 4 6 7 8 9 11 12 13 14 16 17 18 19 21 "
     ]
    }
   ],
   "source": [
    "a = int(input(\"請輸入正整數：\"))\n",
    "for i in range(1,a+1):\n",
    "    if i % 5 == 0:\n",
    "        continue\n",
    "    print(i , end =\" \")"
   ]
  },
  {
   "cell_type": "code",
   "execution_count": null,
   "id": "b24ad14f",
   "metadata": {},
   "outputs": [],
   "source": []
  }
 ],
 "metadata": {
  "kernelspec": {
   "display_name": "Python 3 (ipykernel)",
   "language": "python",
   "name": "python3"
  },
  "language_info": {
   "codemirror_mode": {
    "name": "ipython",
    "version": 3
   },
   "file_extension": ".py",
   "mimetype": "text/x-python",
   "name": "python",
   "nbconvert_exporter": "python",
   "pygments_lexer": "ipython3",
   "version": "3.9.7"
  }
 },
 "nbformat": 4,
 "nbformat_minor": 5
}
